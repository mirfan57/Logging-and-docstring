{
 "cells": [
  {
   "cell_type": "markdown",
   "id": "254364a8",
   "metadata": {},
   "source": [
    "#### Please switch to env: `tflow`"
   ]
  },
  {
   "cell_type": "code",
   "execution_count": 5,
   "id": "ba359ad5",
   "metadata": {},
   "outputs": [],
   "source": [
    "import os\n",
    "import matplotlib.pyplot as plt\n",
    "import numpy as np\n",
    "import pandas as pd\n",
    "import seaborn as sns\n",
    "import joblib\n",
    "\n",
    "from matplotlib.colors import ListedColormap\n",
    "plt.style.use(\"fivethirtyeight\")"
   ]
  },
  {
   "cell_type": "markdown",
   "id": "676b0515",
   "metadata": {},
   "source": [
    "<img src=\"percep.png\">"
   ]
  },
  {
   "cell_type": "code",
   "execution_count": 12,
   "id": "e2f5ac1b",
   "metadata": {},
   "outputs": [],
   "source": [
    "class Perceptron:\n",
    "    def __init__(self, eta: float=None, epochs: int=None):\n",
    "        self.weights = np.random.randn(3) * 1e-4       #small random weights\n",
    "        training = (eta is not None) and (epochs is not None)\n",
    "        #we can call the Perceptron class without giving any parameters if we don't want it to train but use one of its methods\n",
    "        if training:\n",
    "            #printing initial weights only when training otherwise not\n",
    "            print(f\"initial weights before training: \\n{self.weights}\")      \n",
    "        self.eta = eta\n",
    "        self.epochs = epochs\n",
    "    \n",
    "    def _z_outcome(self, inputs, weights):\n",
    "        return np.dot(inputs, weights)                 #product of weights time the inputs\n",
    "    \n",
    "    def activation_function(self, z):\n",
    "        return np.where(z>0, 1, 0)                     #where z>0 return 1 otherwise return 0 (step function)\n",
    "    \n",
    "    def fit(self, X, y):\n",
    "        self.X = X\n",
    "        self.y = y\n",
    "        \n",
    "        X_with_bias = np.c_[self.X, -np.ones((len(self.X), 1))]        #concatenating our x with bias\n",
    "        print(f\"X with bias: \\n{X_with_bias}\")\n",
    "        \n",
    "        for epoch in range(self.epochs):\n",
    "            print(\"--\"*10)\n",
    "            print(f\"for epoch >> {epoch}\")\n",
    "            print(\"--\"*10)\n",
    "            \n",
    "            z = self._z_outcome(X_with_bias, self.weights)\n",
    "            y_hat = self.activation_function(z)            #predicted value\n",
    "            print(f\"predicted value after forward pass: \\n{y_hat}\")\n",
    "            \n",
    "            self.error = self.y - y_hat                      #true-predicted\n",
    "            print(f\"error :\\n{self.error}\")\n",
    "            \n",
    "            self.weights = self.weights + self.eta * np.dot(X_with_bias.T, self.error)\n",
    "            print(f\"updated weights after epoch: {epoch + 1}/{self.epochs} is \\n{self.weights}\")\n",
    "            print(\"##\"*10)\n",
    "    \n",
    "    def predict(self, X):                                        #X is input provided for prediction purpose\n",
    "        X_with_bias = np.c_[X, -np.ones((len(X), 1))]            \n",
    "        z = self._z_outcome(X_with_bias, self.weights)           #the updated weights after all epochs\n",
    "        return self.activation_function(z)\n",
    "    \n",
    "    def total_loss(self):\n",
    "        total_loss = np.sum(self.error)\n",
    "        print(f\"\\n total loss: {total_loss}\\n\")\n",
    "        return total_loss\n",
    "    \n",
    "    #before writing the model in a file we need to create a directory first\n",
    "    def _create_dir_return_path(self, model_dir, filename):\n",
    "        os.makedirs(model_dir, exist_ok=True)      #exist_ok=True so that if directory already present then overwrite it\n",
    "        return os.path.join(model_dir, filename)\n",
    "    \n",
    "    def save(self, filename, model_dir = None):\n",
    "        if model_dir is not None:\n",
    "            model_file_path = self._create_dir_return_path(model_dir, filename)\n",
    "            joblib.dump(self, model_file_path)\n",
    "        else:\n",
    "            #if model_dir not provided then creates a directory with name 'model'\n",
    "            model_file_path = self._create_dir_return_path(\"model\", filename)\n",
    "            joblib.dump(self, model_file_path)\n",
    "    \n",
    "    def load(self, filepath):\n",
    "        return joblib.load(filepath)"
   ]
  },
  {
   "cell_type": "code",
   "execution_count": 33,
   "id": "551b6bbc",
   "metadata": {},
   "outputs": [
    {
     "name": "stdout",
     "output_type": "stream",
     "text": [
      "(3,)\n"
     ]
    },
    {
     "data": {
      "text/plain": [
       "array([-4.16757847e-05, -5.62668272e-06, -2.13619610e-04])"
      ]
     },
     "execution_count": 33,
     "metadata": {},
     "output_type": "execute_result"
    }
   ],
   "source": [
    "np.random.seed(2)\n",
    "wt = np.random.randn(3) * 1e-4\n",
    "print(wt.shape)      #it is a 1-D array\n",
    "wt  "
   ]
  },
  {
   "cell_type": "code",
   "execution_count": 31,
   "id": "bff482f9",
   "metadata": {
    "scrolled": true
   },
   "outputs": [
    {
     "data": {
      "text/html": [
       "<div>\n",
       "<style scoped>\n",
       "    .dataframe tbody tr th:only-of-type {\n",
       "        vertical-align: middle;\n",
       "    }\n",
       "\n",
       "    .dataframe tbody tr th {\n",
       "        vertical-align: top;\n",
       "    }\n",
       "\n",
       "    .dataframe thead th {\n",
       "        text-align: right;\n",
       "    }\n",
       "</style>\n",
       "<table border=\"1\" class=\"dataframe\">\n",
       "  <thead>\n",
       "    <tr style=\"text-align: right;\">\n",
       "      <th></th>\n",
       "      <th>x1</th>\n",
       "      <th>x2</th>\n",
       "    </tr>\n",
       "  </thead>\n",
       "  <tbody>\n",
       "    <tr>\n",
       "      <th>0</th>\n",
       "      <td>0</td>\n",
       "      <td>0</td>\n",
       "    </tr>\n",
       "    <tr>\n",
       "      <th>1</th>\n",
       "      <td>0</td>\n",
       "      <td>1</td>\n",
       "    </tr>\n",
       "    <tr>\n",
       "      <th>2</th>\n",
       "      <td>1</td>\n",
       "      <td>0</td>\n",
       "    </tr>\n",
       "    <tr>\n",
       "      <th>3</th>\n",
       "      <td>1</td>\n",
       "      <td>1</td>\n",
       "    </tr>\n",
       "  </tbody>\n",
       "</table>\n",
       "</div>"
      ],
      "text/plain": [
       "   x1  x2\n",
       "0   0   0\n",
       "1   0   1\n",
       "2   1   0\n",
       "3   1   1"
      ]
     },
     "execution_count": 31,
     "metadata": {},
     "output_type": "execute_result"
    }
   ],
   "source": [
    "X"
   ]
  },
  {
   "cell_type": "code",
   "execution_count": 37,
   "id": "9dedd561",
   "metadata": {},
   "outputs": [
    {
     "name": "stdout",
     "output_type": "stream",
     "text": [
      "4\n"
     ]
    },
    {
     "data": {
      "text/plain": [
       "array([[-1.],\n",
       "       [-1.],\n",
       "       [-1.],\n",
       "       [-1.]])"
      ]
     },
     "execution_count": 37,
     "metadata": {},
     "output_type": "execute_result"
    }
   ],
   "source": [
    "print(len(X))\n",
    "-np.ones((len(X), 1))"
   ]
  },
  {
   "cell_type": "code",
   "execution_count": 34,
   "id": "4420df70",
   "metadata": {},
   "outputs": [
    {
     "data": {
      "text/plain": [
       "array([[ 0.,  0., -1.],\n",
       "       [ 0.,  1., -1.],\n",
       "       [ 1.,  0., -1.],\n",
       "       [ 1.,  1., -1.]])"
      ]
     },
     "execution_count": 34,
     "metadata": {},
     "output_type": "execute_result"
    }
   ],
   "source": [
    "#concatenating the X with column vector of negative ones(bias).\n",
    "inp = np.c_[X, -np.ones((len(X), 1))]\n",
    "inp"
   ]
  },
  {
   "cell_type": "code",
   "execution_count": 35,
   "id": "23843b8c",
   "metadata": {},
   "outputs": [
    {
     "data": {
      "text/plain": [
       "array([0.00021362, 0.00020799, 0.00017194, 0.00016632])"
      ]
     },
     "execution_count": 35,
     "metadata": {},
     "output_type": "execute_result"
    }
   ],
   "source": [
    "#If `a` is an N-D array and `b` is a 1-D array, it is a sum product over the last axis of `a` and `b`.\n",
    "#though wt is 1-D we treat it as 3*1 matrix for the dot operation\n",
    "np.dot(inp, wt)      #inp(4*3)*wt(3*1) = result(4*1)"
   ]
  },
  {
   "cell_type": "code",
   "execution_count": 13,
   "id": "aab8977f",
   "metadata": {},
   "outputs": [],
   "source": [
    "def prepare_data(df, target_col=\"y\"):\n",
    "    X = df.drop(target_col, axis=1)\n",
    "    y = df[target_col]\n",
    "    return X, y"
   ]
  },
  {
   "cell_type": "code",
   "execution_count": 14,
   "id": "25d64ab9",
   "metadata": {},
   "outputs": [
    {
     "data": {
      "text/html": [
       "<div>\n",
       "<style scoped>\n",
       "    .dataframe tbody tr th:only-of-type {\n",
       "        vertical-align: middle;\n",
       "    }\n",
       "\n",
       "    .dataframe tbody tr th {\n",
       "        vertical-align: top;\n",
       "    }\n",
       "\n",
       "    .dataframe thead th {\n",
       "        text-align: right;\n",
       "    }\n",
       "</style>\n",
       "<table border=\"1\" class=\"dataframe\">\n",
       "  <thead>\n",
       "    <tr style=\"text-align: right;\">\n",
       "      <th></th>\n",
       "      <th>x1</th>\n",
       "      <th>x2</th>\n",
       "      <th>y</th>\n",
       "    </tr>\n",
       "  </thead>\n",
       "  <tbody>\n",
       "    <tr>\n",
       "      <th>0</th>\n",
       "      <td>0</td>\n",
       "      <td>0</td>\n",
       "      <td>0</td>\n",
       "    </tr>\n",
       "    <tr>\n",
       "      <th>1</th>\n",
       "      <td>0</td>\n",
       "      <td>1</td>\n",
       "      <td>0</td>\n",
       "    </tr>\n",
       "    <tr>\n",
       "      <th>2</th>\n",
       "      <td>1</td>\n",
       "      <td>0</td>\n",
       "      <td>0</td>\n",
       "    </tr>\n",
       "    <tr>\n",
       "      <th>3</th>\n",
       "      <td>1</td>\n",
       "      <td>1</td>\n",
       "      <td>1</td>\n",
       "    </tr>\n",
       "  </tbody>\n",
       "</table>\n",
       "</div>"
      ],
      "text/plain": [
       "   x1  x2  y\n",
       "0   0   0  0\n",
       "1   0   1  0\n",
       "2   1   0  0\n",
       "3   1   1  1"
      ]
     },
     "execution_count": 14,
     "metadata": {},
     "output_type": "execute_result"
    }
   ],
   "source": [
    "#AND gate\n",
    "AND = {\n",
    "    \"x1\":[0,0,1,1],\n",
    "    \"x2\":[0,1,0,1],\n",
    "    \"y\" :[0,0,0,1]\n",
    "}\n",
    "\n",
    "df_AND = pd.DataFrame(AND)\n",
    "df_AND"
   ]
  },
  {
   "cell_type": "code",
   "execution_count": 18,
   "id": "02c7dcfe",
   "metadata": {},
   "outputs": [
    {
     "data": {
      "text/plain": [
       "4"
      ]
     },
     "execution_count": 18,
     "metadata": {},
     "output_type": "execute_result"
    }
   ],
   "source": [
    "len(X)"
   ]
  },
  {
   "cell_type": "code",
   "execution_count": 17,
   "id": "655adb1a",
   "metadata": {
    "scrolled": true
   },
   "outputs": [
    {
     "data": {
      "text/plain": [
       "0    0\n",
       "1    0\n",
       "2    0\n",
       "3    1\n",
       "Name: y, dtype: int64"
      ]
     },
     "execution_count": 17,
     "metadata": {},
     "output_type": "execute_result"
    }
   ],
   "source": [
    "y"
   ]
  },
  {
   "cell_type": "code",
   "execution_count": null,
   "id": "2e4b794c",
   "metadata": {},
   "outputs": [],
   "source": []
  },
  {
   "cell_type": "code",
   "execution_count": 15,
   "id": "fce83de6",
   "metadata": {},
   "outputs": [
    {
     "name": "stdout",
     "output_type": "stream",
     "text": [
      "initial weights before training: \n",
      "[ 6.17222395e-05 -4.72893634e-05 -1.80150478e-04]\n",
      "X with bias: \n",
      "[[ 0.  0. -1.]\n",
      " [ 0.  1. -1.]\n",
      " [ 1.  0. -1.]\n",
      " [ 1.  1. -1.]]\n",
      "--------------------\n",
      "for epoch >> 0\n",
      "--------------------\n",
      "predicted value after forward pass: \n",
      "[1 1 1 1]\n",
      "error :\n",
      "0   -1\n",
      "1   -1\n",
      "2   -1\n",
      "3    0\n",
      "Name: y, dtype: int64\n",
      "updated weights after epoch: 1/10 is \n",
      "[-0.09993828 -0.10004729  0.29981985]\n",
      "####################\n",
      "--------------------\n",
      "for epoch >> 1\n",
      "--------------------\n",
      "predicted value after forward pass: \n",
      "[0 0 0 0]\n",
      "error :\n",
      "0    0\n",
      "1    0\n",
      "2    0\n",
      "3    1\n",
      "Name: y, dtype: int64\n",
      "updated weights after epoch: 2/10 is \n",
      "[ 6.17222395e-05 -4.72893634e-05  1.99819850e-01]\n",
      "####################\n",
      "--------------------\n",
      "for epoch >> 2\n",
      "--------------------\n",
      "predicted value after forward pass: \n",
      "[0 0 0 0]\n",
      "error :\n",
      "0    0\n",
      "1    0\n",
      "2    0\n",
      "3    1\n",
      "Name: y, dtype: int64\n",
      "updated weights after epoch: 3/10 is \n",
      "[0.10006172 0.09995271 0.09981985]\n",
      "####################\n",
      "--------------------\n",
      "for epoch >> 3\n",
      "--------------------\n",
      "predicted value after forward pass: \n",
      "[0 1 1 1]\n",
      "error :\n",
      "0    0\n",
      "1   -1\n",
      "2   -1\n",
      "3    0\n",
      "Name: y, dtype: int64\n",
      "updated weights after epoch: 4/10 is \n",
      "[ 6.17222395e-05 -4.72893634e-05  2.99819850e-01]\n",
      "####################\n",
      "--------------------\n",
      "for epoch >> 4\n",
      "--------------------\n",
      "predicted value after forward pass: \n",
      "[0 0 0 0]\n",
      "error :\n",
      "0    0\n",
      "1    0\n",
      "2    0\n",
      "3    1\n",
      "Name: y, dtype: int64\n",
      "updated weights after epoch: 5/10 is \n",
      "[0.10006172 0.09995271 0.19981985]\n",
      "####################\n",
      "--------------------\n",
      "for epoch >> 5\n",
      "--------------------\n",
      "predicted value after forward pass: \n",
      "[0 0 0 1]\n",
      "error :\n",
      "0    0\n",
      "1    0\n",
      "2    0\n",
      "3    0\n",
      "Name: y, dtype: int64\n",
      "updated weights after epoch: 6/10 is \n",
      "[0.10006172 0.09995271 0.19981985]\n",
      "####################\n",
      "--------------------\n",
      "for epoch >> 6\n",
      "--------------------\n",
      "predicted value after forward pass: \n",
      "[0 0 0 1]\n",
      "error :\n",
      "0    0\n",
      "1    0\n",
      "2    0\n",
      "3    0\n",
      "Name: y, dtype: int64\n",
      "updated weights after epoch: 7/10 is \n",
      "[0.10006172 0.09995271 0.19981985]\n",
      "####################\n",
      "--------------------\n",
      "for epoch >> 7\n",
      "--------------------\n",
      "predicted value after forward pass: \n",
      "[0 0 0 1]\n",
      "error :\n",
      "0    0\n",
      "1    0\n",
      "2    0\n",
      "3    0\n",
      "Name: y, dtype: int64\n",
      "updated weights after epoch: 8/10 is \n",
      "[0.10006172 0.09995271 0.19981985]\n",
      "####################\n",
      "--------------------\n",
      "for epoch >> 8\n",
      "--------------------\n",
      "predicted value after forward pass: \n",
      "[0 0 0 1]\n",
      "error :\n",
      "0    0\n",
      "1    0\n",
      "2    0\n",
      "3    0\n",
      "Name: y, dtype: int64\n",
      "updated weights after epoch: 9/10 is \n",
      "[0.10006172 0.09995271 0.19981985]\n",
      "####################\n",
      "--------------------\n",
      "for epoch >> 9\n",
      "--------------------\n",
      "predicted value after forward pass: \n",
      "[0 0 0 1]\n",
      "error :\n",
      "0    0\n",
      "1    0\n",
      "2    0\n",
      "3    0\n",
      "Name: y, dtype: int64\n",
      "updated weights after epoch: 10/10 is \n",
      "[0.10006172 0.09995271 0.19981985]\n",
      "####################\n",
      "\n",
      " total loss: 0\n",
      "\n"
     ]
    }
   ],
   "source": [
    "X, y  = prepare_data(df_AND)\n",
    "\n",
    "ETA = 0.1\n",
    "EPOCHS = 10\n",
    "\n",
    "model_and = Perceptron(eta=ETA, epochs=EPOCHS)\n",
    "model_and.fit(X, y)\n",
    "\n",
    "_ = model_and.total_loss()"
   ]
  },
  {
   "cell_type": "markdown",
   "id": "f28ca13b",
   "metadata": {},
   "source": [
    "Saving the and model in some folder"
   ]
  },
  {
   "cell_type": "code",
   "execution_count": 42,
   "id": "cf3f5f62",
   "metadata": {},
   "outputs": [],
   "source": [
    "model_and.save(filename=\"and.model\")"
   ]
  },
  {
   "cell_type": "markdown",
   "id": "62f96b7c",
   "metadata": {},
   "source": [
    "Loading the saved model by calling the Perceptron function without any parameters eta or epoch, so that it doesn't train again the already trained model, we call the load method by providing file path."
   ]
  },
  {
   "cell_type": "code",
   "execution_count": 43,
   "id": "641c9aab",
   "metadata": {},
   "outputs": [],
   "source": [
    "reload_model_and = Perceptron().load(filepath=\"model/and.model\")"
   ]
  },
  {
   "cell_type": "code",
   "execution_count": 45,
   "id": "999a69cf",
   "metadata": {},
   "outputs": [
    {
     "data": {
      "text/plain": [
       "array([0])"
      ]
     },
     "execution_count": 45,
     "metadata": {},
     "output_type": "execute_result"
    }
   ],
   "source": [
    "reload_model_and.predict(X=[[0,1]])"
   ]
  },
  {
   "cell_type": "code",
   "execution_count": 46,
   "id": "a6ac8509",
   "metadata": {},
   "outputs": [
    {
     "data": {
      "text/plain": [
       "array([1])"
      ]
     },
     "execution_count": 46,
     "metadata": {},
     "output_type": "execute_result"
    }
   ],
   "source": [
    "reload_model_and.predict(X=[[1,1]])"
   ]
  },
  {
   "cell_type": "markdown",
   "id": "2ced9d0d",
   "metadata": {},
   "source": [
    "## OR Gate"
   ]
  },
  {
   "cell_type": "code",
   "execution_count": 38,
   "id": "14f88871",
   "metadata": {},
   "outputs": [
    {
     "data": {
      "text/html": [
       "<div>\n",
       "<style scoped>\n",
       "    .dataframe tbody tr th:only-of-type {\n",
       "        vertical-align: middle;\n",
       "    }\n",
       "\n",
       "    .dataframe tbody tr th {\n",
       "        vertical-align: top;\n",
       "    }\n",
       "\n",
       "    .dataframe thead th {\n",
       "        text-align: right;\n",
       "    }\n",
       "</style>\n",
       "<table border=\"1\" class=\"dataframe\">\n",
       "  <thead>\n",
       "    <tr style=\"text-align: right;\">\n",
       "      <th></th>\n",
       "      <th>x1</th>\n",
       "      <th>x2</th>\n",
       "      <th>y</th>\n",
       "    </tr>\n",
       "  </thead>\n",
       "  <tbody>\n",
       "    <tr>\n",
       "      <th>0</th>\n",
       "      <td>0</td>\n",
       "      <td>0</td>\n",
       "      <td>0</td>\n",
       "    </tr>\n",
       "    <tr>\n",
       "      <th>1</th>\n",
       "      <td>0</td>\n",
       "      <td>1</td>\n",
       "      <td>1</td>\n",
       "    </tr>\n",
       "    <tr>\n",
       "      <th>2</th>\n",
       "      <td>1</td>\n",
       "      <td>0</td>\n",
       "      <td>1</td>\n",
       "    </tr>\n",
       "    <tr>\n",
       "      <th>3</th>\n",
       "      <td>1</td>\n",
       "      <td>1</td>\n",
       "      <td>1</td>\n",
       "    </tr>\n",
       "  </tbody>\n",
       "</table>\n",
       "</div>"
      ],
      "text/plain": [
       "   x1  x2  y\n",
       "0   0   0  0\n",
       "1   0   1  1\n",
       "2   1   0  1\n",
       "3   1   1  1"
      ]
     },
     "execution_count": 38,
     "metadata": {},
     "output_type": "execute_result"
    }
   ],
   "source": [
    "#OR gate\n",
    "OR = {\n",
    "    \"x1\":[0,0,1,1],\n",
    "    \"x2\":[0,1,0,1],\n",
    "    \"y\" :[0,1,1,1]\n",
    "}\n",
    "\n",
    "df_OR = pd.DataFrame(OR)\n",
    "df_OR"
   ]
  },
  {
   "cell_type": "code",
   "execution_count": 39,
   "id": "23102a98",
   "metadata": {},
   "outputs": [
    {
     "name": "stdout",
     "output_type": "stream",
     "text": [
      "initial weights before training: \n",
      "[ 1.64027081e-04 -1.79343559e-04 -8.41747366e-05]\n",
      "X with bias: \n",
      "[[ 0.  0. -1.]\n",
      " [ 0.  1. -1.]\n",
      " [ 1.  0. -1.]\n",
      " [ 1.  1. -1.]]\n",
      "--------------------\n",
      "for epoch >> 0\n",
      "--------------------\n",
      "predicted value after forward pass: \n",
      "[1 0 1 1]\n",
      "error :\n",
      "0   -1\n",
      "1    1\n",
      "2    0\n",
      "3    0\n",
      "Name: y, dtype: int64\n",
      "updated weights after epoch: 1/10 is \n",
      "[ 1.64027081e-04  9.98206564e-02 -8.41747366e-05]\n",
      "####################\n",
      "--------------------\n",
      "for epoch >> 1\n",
      "--------------------\n",
      "predicted value after forward pass: \n",
      "[1 1 1 1]\n",
      "error :\n",
      "0   -1\n",
      "1    0\n",
      "2    0\n",
      "3    0\n",
      "Name: y, dtype: int64\n",
      "updated weights after epoch: 2/10 is \n",
      "[0.00016403 0.09982066 0.09991583]\n",
      "####################\n",
      "--------------------\n",
      "for epoch >> 2\n",
      "--------------------\n",
      "predicted value after forward pass: \n",
      "[0 0 0 1]\n",
      "error :\n",
      "0    0\n",
      "1    1\n",
      "2    1\n",
      "3    0\n",
      "Name: y, dtype: int64\n",
      "updated weights after epoch: 3/10 is \n",
      "[ 0.10016403  0.19982066 -0.10008417]\n",
      "####################\n",
      "--------------------\n",
      "for epoch >> 3\n",
      "--------------------\n",
      "predicted value after forward pass: \n",
      "[1 1 1 1]\n",
      "error :\n",
      "0   -1\n",
      "1    0\n",
      "2    0\n",
      "3    0\n",
      "Name: y, dtype: int64\n",
      "updated weights after epoch: 4/10 is \n",
      "[ 1.00164027e-01  1.99820656e-01 -8.41747366e-05]\n",
      "####################\n",
      "--------------------\n",
      "for epoch >> 4\n",
      "--------------------\n",
      "predicted value after forward pass: \n",
      "[1 1 1 1]\n",
      "error :\n",
      "0   -1\n",
      "1    0\n",
      "2    0\n",
      "3    0\n",
      "Name: y, dtype: int64\n",
      "updated weights after epoch: 5/10 is \n",
      "[0.10016403 0.19982066 0.09991583]\n",
      "####################\n",
      "--------------------\n",
      "for epoch >> 5\n",
      "--------------------\n",
      "predicted value after forward pass: \n",
      "[0 1 1 1]\n",
      "error :\n",
      "0    0\n",
      "1    0\n",
      "2    0\n",
      "3    0\n",
      "Name: y, dtype: int64\n",
      "updated weights after epoch: 6/10 is \n",
      "[0.10016403 0.19982066 0.09991583]\n",
      "####################\n",
      "--------------------\n",
      "for epoch >> 6\n",
      "--------------------\n",
      "predicted value after forward pass: \n",
      "[0 1 1 1]\n",
      "error :\n",
      "0    0\n",
      "1    0\n",
      "2    0\n",
      "3    0\n",
      "Name: y, dtype: int64\n",
      "updated weights after epoch: 7/10 is \n",
      "[0.10016403 0.19982066 0.09991583]\n",
      "####################\n",
      "--------------------\n",
      "for epoch >> 7\n",
      "--------------------\n",
      "predicted value after forward pass: \n",
      "[0 1 1 1]\n",
      "error :\n",
      "0    0\n",
      "1    0\n",
      "2    0\n",
      "3    0\n",
      "Name: y, dtype: int64\n",
      "updated weights after epoch: 8/10 is \n",
      "[0.10016403 0.19982066 0.09991583]\n",
      "####################\n",
      "--------------------\n",
      "for epoch >> 8\n",
      "--------------------\n",
      "predicted value after forward pass: \n",
      "[0 1 1 1]\n",
      "error :\n",
      "0    0\n",
      "1    0\n",
      "2    0\n",
      "3    0\n",
      "Name: y, dtype: int64\n",
      "updated weights after epoch: 9/10 is \n",
      "[0.10016403 0.19982066 0.09991583]\n",
      "####################\n",
      "--------------------\n",
      "for epoch >> 9\n",
      "--------------------\n",
      "predicted value after forward pass: \n",
      "[0 1 1 1]\n",
      "error :\n",
      "0    0\n",
      "1    0\n",
      "2    0\n",
      "3    0\n",
      "Name: y, dtype: int64\n",
      "updated weights after epoch: 10/10 is \n",
      "[0.10016403 0.19982066 0.09991583]\n",
      "####################\n",
      "\n",
      " total loss: 0\n",
      "\n"
     ]
    }
   ],
   "source": [
    "X, y  = prepare_data(df_OR)\n",
    "\n",
    "ETA = 0.1\n",
    "EPOCHS = 10\n",
    "\n",
    "model_or = Perceptron(eta=ETA, epochs=EPOCHS)\n",
    "model_or.fit(X, y)\n",
    "\n",
    "_ = model_or.total_loss()"
   ]
  },
  {
   "cell_type": "markdown",
   "id": "0ba4f184",
   "metadata": {},
   "source": [
    "## XOR Gate"
   ]
  },
  {
   "cell_type": "code",
   "execution_count": 40,
   "id": "ff2b9850",
   "metadata": {},
   "outputs": [
    {
     "data": {
      "text/html": [
       "<div>\n",
       "<style scoped>\n",
       "    .dataframe tbody tr th:only-of-type {\n",
       "        vertical-align: middle;\n",
       "    }\n",
       "\n",
       "    .dataframe tbody tr th {\n",
       "        vertical-align: top;\n",
       "    }\n",
       "\n",
       "    .dataframe thead th {\n",
       "        text-align: right;\n",
       "    }\n",
       "</style>\n",
       "<table border=\"1\" class=\"dataframe\">\n",
       "  <thead>\n",
       "    <tr style=\"text-align: right;\">\n",
       "      <th></th>\n",
       "      <th>x1</th>\n",
       "      <th>x2</th>\n",
       "      <th>y</th>\n",
       "    </tr>\n",
       "  </thead>\n",
       "  <tbody>\n",
       "    <tr>\n",
       "      <th>0</th>\n",
       "      <td>0</td>\n",
       "      <td>0</td>\n",
       "      <td>0</td>\n",
       "    </tr>\n",
       "    <tr>\n",
       "      <th>1</th>\n",
       "      <td>0</td>\n",
       "      <td>1</td>\n",
       "      <td>1</td>\n",
       "    </tr>\n",
       "    <tr>\n",
       "      <th>2</th>\n",
       "      <td>1</td>\n",
       "      <td>0</td>\n",
       "      <td>1</td>\n",
       "    </tr>\n",
       "    <tr>\n",
       "      <th>3</th>\n",
       "      <td>1</td>\n",
       "      <td>1</td>\n",
       "      <td>0</td>\n",
       "    </tr>\n",
       "  </tbody>\n",
       "</table>\n",
       "</div>"
      ],
      "text/plain": [
       "   x1  x2  y\n",
       "0   0   0  0\n",
       "1   0   1  1\n",
       "2   1   0  1\n",
       "3   1   1  0"
      ]
     },
     "execution_count": 40,
     "metadata": {},
     "output_type": "execute_result"
    }
   ],
   "source": [
    "#XOR gate\n",
    "XOR = {\n",
    "    \"x1\":[0,0,1,1],\n",
    "    \"x2\":[0,1,0,1],\n",
    "    \"y\" :[0,1,1,0]\n",
    "}\n",
    "\n",
    "df_XOR = pd.DataFrame(XOR)\n",
    "df_XOR"
   ]
  },
  {
   "cell_type": "code",
   "execution_count": 41,
   "id": "f650f5a7",
   "metadata": {},
   "outputs": [
    {
     "name": "stdout",
     "output_type": "stream",
     "text": [
      "initial weights before training: \n",
      "[ 5.02881417e-05 -1.24528809e-04 -1.05795222e-04]\n",
      "X with bias: \n",
      "[[ 0.  0. -1.]\n",
      " [ 0.  1. -1.]\n",
      " [ 1.  0. -1.]\n",
      " [ 1.  1. -1.]]\n",
      "--------------------\n",
      "for epoch >> 0\n",
      "--------------------\n",
      "predicted value after forward pass: \n",
      "[1 0 1 1]\n",
      "error :\n",
      "0   -1\n",
      "1    1\n",
      "2    0\n",
      "3   -1\n",
      "Name: y, dtype: int64\n",
      "updated weights after epoch: 1/10 is \n",
      "[-0.09994971 -0.00012453  0.0998942 ]\n",
      "####################\n",
      "--------------------\n",
      "for epoch >> 1\n",
      "--------------------\n",
      "predicted value after forward pass: \n",
      "[0 0 0 0]\n",
      "error :\n",
      "0    0\n",
      "1    1\n",
      "2    1\n",
      "3    0\n",
      "Name: y, dtype: int64\n",
      "updated weights after epoch: 2/10 is \n",
      "[ 5.02881417e-05  9.98754712e-02 -1.00105795e-01]\n",
      "####################\n",
      "--------------------\n",
      "for epoch >> 2\n",
      "--------------------\n",
      "predicted value after forward pass: \n",
      "[1 1 1 1]\n",
      "error :\n",
      "0   -1\n",
      "1    0\n",
      "2    0\n",
      "3   -1\n",
      "Name: y, dtype: int64\n",
      "updated weights after epoch: 3/10 is \n",
      "[-0.09994971 -0.00012453  0.0998942 ]\n",
      "####################\n",
      "--------------------\n",
      "for epoch >> 3\n",
      "--------------------\n",
      "predicted value after forward pass: \n",
      "[0 0 0 0]\n",
      "error :\n",
      "0    0\n",
      "1    1\n",
      "2    1\n",
      "3    0\n",
      "Name: y, dtype: int64\n",
      "updated weights after epoch: 4/10 is \n",
      "[ 5.02881417e-05  9.98754712e-02 -1.00105795e-01]\n",
      "####################\n",
      "--------------------\n",
      "for epoch >> 4\n",
      "--------------------\n",
      "predicted value after forward pass: \n",
      "[1 1 1 1]\n",
      "error :\n",
      "0   -1\n",
      "1    0\n",
      "2    0\n",
      "3   -1\n",
      "Name: y, dtype: int64\n",
      "updated weights after epoch: 5/10 is \n",
      "[-0.09994971 -0.00012453  0.0998942 ]\n",
      "####################\n",
      "--------------------\n",
      "for epoch >> 5\n",
      "--------------------\n",
      "predicted value after forward pass: \n",
      "[0 0 0 0]\n",
      "error :\n",
      "0    0\n",
      "1    1\n",
      "2    1\n",
      "3    0\n",
      "Name: y, dtype: int64\n",
      "updated weights after epoch: 6/10 is \n",
      "[ 5.02881417e-05  9.98754712e-02 -1.00105795e-01]\n",
      "####################\n",
      "--------------------\n",
      "for epoch >> 6\n",
      "--------------------\n",
      "predicted value after forward pass: \n",
      "[1 1 1 1]\n",
      "error :\n",
      "0   -1\n",
      "1    0\n",
      "2    0\n",
      "3   -1\n",
      "Name: y, dtype: int64\n",
      "updated weights after epoch: 7/10 is \n",
      "[-0.09994971 -0.00012453  0.0998942 ]\n",
      "####################\n",
      "--------------------\n",
      "for epoch >> 7\n",
      "--------------------\n",
      "predicted value after forward pass: \n",
      "[0 0 0 0]\n",
      "error :\n",
      "0    0\n",
      "1    1\n",
      "2    1\n",
      "3    0\n",
      "Name: y, dtype: int64\n",
      "updated weights after epoch: 8/10 is \n",
      "[ 5.02881417e-05  9.98754712e-02 -1.00105795e-01]\n",
      "####################\n",
      "--------------------\n",
      "for epoch >> 8\n",
      "--------------------\n",
      "predicted value after forward pass: \n",
      "[1 1 1 1]\n",
      "error :\n",
      "0   -1\n",
      "1    0\n",
      "2    0\n",
      "3   -1\n",
      "Name: y, dtype: int64\n",
      "updated weights after epoch: 9/10 is \n",
      "[-0.09994971 -0.00012453  0.0998942 ]\n",
      "####################\n",
      "--------------------\n",
      "for epoch >> 9\n",
      "--------------------\n",
      "predicted value after forward pass: \n",
      "[0 0 0 0]\n",
      "error :\n",
      "0    0\n",
      "1    1\n",
      "2    1\n",
      "3    0\n",
      "Name: y, dtype: int64\n",
      "updated weights after epoch: 10/10 is \n",
      "[ 5.02881417e-05  9.98754712e-02 -1.00105795e-01]\n",
      "####################\n",
      "\n",
      " total loss: 2\n",
      "\n"
     ]
    }
   ],
   "source": [
    "X, y  = prepare_data(df_XOR)\n",
    "\n",
    "ETA = 0.1\n",
    "EPOCHS = 10\n",
    "\n",
    "model_xor = Perceptron(eta=ETA, epochs=EPOCHS)\n",
    "model_xor.fit(X, y)\n",
    "\n",
    "_ = model_xor.total_loss()"
   ]
  },
  {
   "cell_type": "markdown",
   "id": "f785a282",
   "metadata": {},
   "source": [
    "#### The total loss is never becoming zero for XOR gate."
   ]
  },
  {
   "cell_type": "markdown",
   "id": "96b40abf",
   "metadata": {},
   "source": [
    "Because perceptron works only for linear dataset or linearly seperable dataset and not on non-linear data."
   ]
  },
  {
   "cell_type": "code",
   "execution_count": null,
   "id": "a0905644",
   "metadata": {},
   "outputs": [],
   "source": [
    "def save_plot(df, model, filename=\"plot.png\", plot_dir=\"plots\"):\n",
    "    def _create_base_plot(df):\n",
    "        df.plot(kind=\"scatter\", x=\"x1\", y=\"x2\", c=\"y\", s=100, cmap=\"coolwarm\")\n",
    "        plt.axhline(y=0, color=\"black\", linestyle=\"--\", linewidth=1)\n",
    "        plt.axvline(x=0, color=\"black\", linestyle=\"--\", linewidth=1)\n",
    "        \n",
    "        figure = plt.gcf()\n",
    "        figure.set_size_inches(10, 8)\n",
    "    \n",
    "    def _plot_decision_regions(X, y, classifier, resolution=0.02):\n",
    "        colors = (\"cyan\", \"lightgreen\")\n",
    "        cmap = ListedColormap(colors)\n",
    "        \n",
    "        X = X.values # as an array\n",
    "        x1 = X[:, 0]\n",
    "        x2 = X[:, 1]\n",
    "        \n",
    "        x1_min, x1_max = x1.min() - 1, x1.max() + 1 \n",
    "        x2_min, x2_max = x2.min() - 1, x2.max() + 1\n",
    "        \n",
    "        xx1, xx2 = np.meshgrid(np.arange(x1_min, x1_max, resolution),\n",
    "                               np.arange(x2_min, x2_max, resolution)\n",
    "                              )\n",
    "        y_hat = classifier.predict(np.array([xx1.ravel(), xx2.ravel()]).T)\n",
    "        y_hat = y_hat.reshape(xx1.shape)\n",
    "        \n",
    "        plt.contourf(xx1, xx2, y_hat, alpha=0.3, cmap=cmap)\n",
    "        plt.xlim(xx1.min(), xx1.max())\n",
    "        plt.ylim(xx2.min(), xx2.max())\n",
    "        \n",
    "        plt.plot()\n",
    "        \n",
    "    X, y = prepare_data(df)\n",
    "    \n",
    "    _create_base_plot(df)\n",
    "    _plot_decision_regions(X, y, model)\n",
    "    \n",
    "    os.makedirs(plot_dir, exist_ok=True)\n",
    "    plot_path = os.path.join(plot_dir, filename)\n",
    "    plt.savefig(plot_path)"
   ]
  },
  {
   "cell_type": "code",
   "execution_count": 47,
   "id": "62ccb8ab",
   "metadata": {},
   "outputs": [],
   "source": [
    "def save_plot(df, model, filename=\"plot.png\", plot_dir = \"plots\"):\n",
    "    \n",
    "    def _create_base_plot(df):                 #creating a scatter plot of data given to dataframe\n",
    "        df.plot(kind=\"scatter\", x=\"x1\", y=\"x2\", c=\"y\", s=100, cmap=\"coolwarm\")\n",
    "        plt.axhline(y=0, color=\"black\", linestyle=\"--\", linewidth=1)     #building x-axis or horizontal line\n",
    "        plt.axvline(x=0, color=\"black\", linestyle=\"--\", linewidth=1)     #building y-axis or vertical line\n",
    "        \n",
    "        figure = plt.gcf()                                #get current figure\n",
    "        figure.set_size_inches(10, 8)\n",
    "    \n",
    "    def _plot_decision_regions(X, y, classifier, resolution=0.02):\n",
    "        colors = (\"cyan\", \"lightgreen\")\n",
    "        cmap = ListedColormap(colors)\n",
    "        \n",
    "        X = X.values                               #to get array values\n",
    "        x1 = X[:,0]                                #all the rows and 0th column\n",
    "        x2 = X[:,1]                                #all the rows and 1st col\n",
    "        \n",
    "        x1_min, x1_max = x1.min() - 1, x1.max() + 1\n",
    "        x2_min, x2_max = x2.min() - 1, x2.max() + 1\n",
    "        \n",
    "        #create decision boundaries using meshgrid\n",
    "        xx1, xx2 = np.meshgrid(np.arange(x1_min, x1_max, resolution), #resolution means at what range you want to restrict graph\n",
    "                               np.arange(x2_min, x2_max, resolution)) \n",
    "        \n",
    "        y_hat = classifier.predict(np.array([xx1.ravel(), xx2.ravel()]).T)      #ravel to flatten the matrix into single array\n",
    "        y_hat = y_hat.reshape(xx1.shape)\n",
    "        \n",
    "        plt.contourf(xx1, xx2, y_hat, alpha=0.3, cmap=cmap)\n",
    "        plt.xlim(xx1.min(), xx1.max())              #x-limit\n",
    "        plt.ylim(xx2.min(), xx2.max())              #y-limit\n",
    "        \n",
    "        plt.plot()                                  #to plot the graph in same jupyter nb\n",
    "    \n",
    "    X, y = prepare_data(df)\n",
    "    \n",
    "    _create_base_plot(df)\n",
    "    _plot_decision_regions(X, y, model)\n",
    "    \n",
    "    os.makedirs(plot_dir, exist_ok=True)\n",
    "    plot_path = os.path.join(plot_dir, filename)\n",
    "    plt.savefig(plot_path)"
   ]
  },
  {
   "cell_type": "markdown",
   "id": "318e76a2",
   "metadata": {},
   "source": [
    "### Segregating the two classes"
   ]
  },
  {
   "cell_type": "code",
   "execution_count": 48,
   "id": "add9e564",
   "metadata": {},
   "outputs": [
    {
     "data": {
      "image/png": "[encoded data removed]",
      "text/plain": [
       "<Figure size 720x576 with 2 Axes>"
      ]
     },
     "metadata": {
      "needs_background": "light"
     },
     "output_type": "display_data"
    }
   ],
   "source": [
    "save_plot(df_OR, model_or, filename=\"or.png\")"
   ]
  },
  {
   "cell_type": "code",
   "execution_count": 49,
   "id": "c878bd1d",
   "metadata": {},
   "outputs": [
    {
     "data": {
      "image/png": "[encoded data removed]",
      "text/plain": [
       "<Figure size 720x576 with 2 Axes>"
      ]
     },
     "metadata": {
      "needs_background": "light"
     },
     "output_type": "display_data"
    }
   ],
   "source": [
    "save_plot(df_AND, model_and, filename=\"and.png\")"
   ]
  },
  {
   "cell_type": "code",
   "execution_count": 50,
   "id": "e282e24e",
   "metadata": {},
   "outputs": [
    {
     "data": {
      "image/png": "[encoded data removed]",
      "text/plain": [
       "<Figure size 720x576 with 2 Axes>"
      ]
     },
     "metadata": {
      "needs_background": "light"
     },
     "output_type": "display_data"
    }
   ],
   "source": [
    "save_plot(df_XOR, model_xor, filename=\"xor.png\")"
   ]
  },
  {
   "cell_type": "markdown",
   "id": "64656d83",
   "metadata": {},
   "source": [
    "It cannot make a boundary in case of XOR, because by drawing a single line it will not be able to bifurcate b/w the two classes. This is because they are not linearly seperable. We can either draw an ellipse or hyperbola which can segregate the two classes.\n",
    "**You have to implement the multi-layer perceptron or ANN.**"
   ]
  },
  {
   "cell_type": "code",
   "execution_count": null,
   "id": "25293170",
   "metadata": {},
   "outputs": [],
   "source": []
  }
 ],
 "metadata": {
  "kernelspec": {
   "display_name": "Python 3 (ipykernel)",
   "language": "python",
   "name": "python3"
  },
  "language_info": {
   "codemirror_mode": {
    "name": "ipython",
    "version": 3
   },
   "file_extension": ".py",
   "mimetype": "text/x-python",
   "name": "python",
   "nbconvert_exporter": "python",
   "pygments_lexer": "ipython3",
   "version": "3.9.12"
  }
 },
 "nbformat": 4,
 "nbformat_minor": 5
}
